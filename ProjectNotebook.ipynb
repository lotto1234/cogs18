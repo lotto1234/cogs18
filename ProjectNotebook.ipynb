{
 "cells": [
  {
   "cell_type": "markdown",
   "id": "b06f4a3b",
   "metadata": {},
   "source": [
    "# Final Project: Data Management Tool for California Houses\n",
    "\n",
    "With this tool you can store data, like the number of rooms and the age, for houses. You can also delete houses, print the information regarding a house either into this notebook or into text files and list all houses. You will also see an overview of the options after executing the cell below. Another aspect is the ability to estimate the price of a house using a Linear Regession Algorithm from Sklearn which works with California Housing data based on A CSV with data from 1990. You also see the value of the house compared to others in a chart created with matplotlib.\n",
    "\n",
    "In order to be get the data for the Linear Regression right I also worked with the .csv file in data_prep and added columns, deleted unneeded ones and got rid of outlying values. You can find additional text explaining my thoughts there.\n",
    "\n",
    "You may find some of the things to be entered regarding the house, like for example household income, to be unusual but these are important in order for the linear regression algorithm to work as well as possible.\n",
    "\n",
    "In the beginning you need to enter number 1 to create an entry for a house in order for the other things to make sense. Run the code in the cell below to interact with the tool!"
   ]
  },
  {
   "cell_type": "raw",
   "id": "3d20b027",
   "metadata": {},
   "source": [
    "from functions import house_wrapper\n",
    "\n",
    "house_wrapper()"
   ]
  }
 ],
 "metadata": {
  "kernelspec": {
   "display_name": "Python 3 (ipykernel)",
   "language": "python",
   "name": "python3"
  },
  "language_info": {
   "codemirror_mode": {
    "name": "ipython",
    "version": 3
   },
   "file_extension": ".py",
   "mimetype": "text/x-python",
   "name": "python",
   "nbconvert_exporter": "python",
   "pygments_lexer": "ipython3",
   "version": "3.9.5"
  }
 },
 "nbformat": 4,
 "nbformat_minor": 5
}
