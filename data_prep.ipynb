{
 "cells": [
  {
   "cell_type": "code",
   "execution_count": null,
   "id": "f0515fa5",
   "metadata": {},
   "outputs": [],
   "source": [
    "import pandas as pd\n",
    "from functions import impute_knn\n",
    "\n",
    "df = pd.read_csv('housing.csv')\n",
    "df.info()"
   ]
  },
  {
   "cell_type": "code",
   "execution_count": null,
   "id": "a36a7dc1",
   "metadata": {},
   "outputs": [],
   "source": [
    "df.head()"
   ]
  },
  {
   "cell_type": "markdown",
   "id": "a22e2e7b",
   "metadata": {},
   "source": [
    "We can see that some values do not have attributes. We have to fill these in to ensure data consistency."
   ]
  },
  {
   "cell_type": "code",
   "execution_count": null,
   "id": "fdb3baec",
   "metadata": {},
   "outputs": [],
   "source": [
    "# imported function to fill in missing data using a kNeighborsRegressor\n",
    "df = impute_knn(df)\n",
    "df.info()"
   ]
  },
  {
   "cell_type": "markdown",
   "id": "952151d1",
   "metadata": {},
   "source": [
    "Now we have this data filled in. The original data always looked at the housing data per district. For my use case I want to look at it per house which is why I add some fields, rename some columns and delete no longer necessary columns in the following."
   ]
  },
  {
   "cell_type": "code",
   "execution_count": null,
   "id": "0cdcdcac",
   "metadata": {},
   "outputs": [],
   "source": [
    "#turn this into a function in the end\n",
    "df['rooms'] = df['total_rooms'] / df['households']\n",
    "df['bedrooms'] = df['total_bedrooms'] / df['households']\n",
    "df['number_of_people'] = df['population'] / df['households']\n",
    "\n",
    "#create the average rooms per house for a district derived from the number of rooms and households in the district. Rounding makes sure it only takes whole numbers\n",
    "df['rooms'] = df['rooms'].round(0).astype(int)\n",
    "\n",
    "#Same procedure as with the rooms\n",
    "df['bedrooms'] = df['bedrooms'].round(0).astype(int)\n",
    "df['number_of_people'] = df['number_of_people'].round(0).astype(int)\n",
    "df.rename(columns={\"housing_median_age\": \"house_age\", \"median_income\": \"monthly_income_in_k_USD\",  \"median_house_value\": \"house_value\"}, inplace = True)\n",
    "drop_list = [\"ocean_proximity\", \"total_rooms\", \"total_bedrooms\", \"households\", \"population\"]\n",
    "for element in drop_list:\n",
    "    df.drop(element, axis=1, inplace=True)\n",
    "df.head()"
   ]
  },
  {
   "cell_type": "markdown",
   "id": "4e25c20b",
   "metadata": {},
   "source": [
    "Now, I look at the data to find any outliers or other issues with data that need to be fixed."
   ]
  },
  {
   "cell_type": "code",
   "execution_count": null,
   "id": "75bc1f75",
   "metadata": {},
   "outputs": [],
   "source": [
    "df.hist(bins=60, figsize=(15,9))"
   ]
  },
  {
   "cell_type": "markdown",
   "id": "8a1d042f",
   "metadata": {},
   "source": [
    "There seems to be an issue with the house value having a lot of outliers in the maximum. Therefore, I want to get of these and print the code again to see if the adjustment fixed the issue. "
   ]
  },
  {
   "cell_type": "code",
   "execution_count": null,
   "id": "8d5b9828",
   "metadata": {},
   "outputs": [],
   "source": [
    "#changed code from original idea, same source as impute_knn function\n",
    "maxval = df['house_value'].max()\n",
    "df = df[df['house_value'] != maxval]\n",
    "print(df.columns)\n",
    "df.hist(bins=60, figsize=(15,9))"
   ]
  },
  {
   "cell_type": "code",
   "execution_count": null,
   "id": "97f3c2e1",
   "metadata": {},
   "outputs": [],
   "source": [
    "#save the data as a cv to be used in the method for estimating the house price using linear regression\n",
    "df.to_csv('final_data.csv')"
   ]
  }
 ],
 "metadata": {
  "kernelspec": {
   "display_name": "Python 3 (ipykernel)",
   "language": "python",
   "name": "python3"
  },
  "language_info": {
   "codemirror_mode": {
    "name": "ipython",
    "version": 3
   },
   "file_extension": ".py",
   "mimetype": "text/x-python",
   "name": "python",
   "nbconvert_exporter": "python",
   "pygments_lexer": "ipython3",
   "version": "3.9.5"
  }
 },
 "nbformat": 4,
 "nbformat_minor": 5
}
